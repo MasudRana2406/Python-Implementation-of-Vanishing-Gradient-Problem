{
  "nbformat": 4,
  "nbformat_minor": 0,
  "metadata": {
    "colab": {
      "provenance": []
    },
    "kernelspec": {
      "name": "python3",
      "display_name": "Python 3"
    },
    "language_info": {
      "name": "python"
    }
  },
  "cells": [
    {
      "cell_type": "markdown",
      "source": [
        "## **Python Implementation of Vanishing Gradient Problem**"
      ],
      "metadata": {
        "id": "ApDqS1Z_egDf"
      }
    },
    {
      "cell_type": "markdown",
      "source": [
        "## **Importing Libraries**"
      ],
      "metadata": {
        "id": "AimHdFBi7hH-"
      }
    },
    {
      "cell_type": "code",
      "source": [
        "# Importing Basic Libraries\n",
        "import numpy as np\n",
        "import pandas as pd\n",
        "import matplotlib.pyplot as plt\n",
        "import seaborn as sns\n",
        "import random\n",
        "import warnings\n",
        "warnings.filterwarnings('ignore')\n",
        "\n",
        "# Importing libraries for neural network\n",
        "import tensorflow as tf\n",
        "from tensorflow.keras.models import Sequential\n",
        "from tensorflow.keras.layers import SimpleRNN,LSTM, Dense, Embedding\n",
        "\n",
        "# Import libraries to work with text\n",
        "from tensorflow.keras.preprocessing.sequence import pad_sequences\n",
        "from tensorflow.keras.preprocessing.text import Tokenizer"
      ],
      "metadata": {
        "id": "nJStyK7t4LGB"
      },
      "execution_count": null,
      "outputs": []
    },
    {
      "cell_type": "markdown",
      "source": [
        "## **Creating sample text data to predict last word**\n"
      ],
      "metadata": {
        "id": "rPwBjg56J0e9"
      }
    },
    {
      "cell_type": "code",
      "source": [
        "# Assuming Sample text data\n",
        "text =  '''Rana likes biriyani so we can understand that his favourite cuisine is Bangladeshi.\n",
        "But his friend John likes pastas and cheese so we can understand that his favourite cuisine is Italian.'''\n",
        "\n",
        "# Tokenization - assigns numbers to words as Machine learning models can't directly process text data\n",
        "\n",
        "tokenizer = Tokenizer()\n",
        "tokenizer.fit_on_texts([text])\n",
        "total_words = len(tokenizer.word_index) + 1\n",
        "\n",
        "# Convert text to sequential data to feed to RNNs network\n",
        "sequences = []\n",
        "for line in text.split(\".\"):\n",
        "    tokens = tokenizer.texts_to_sequences([line])[0] #[0] extracts the first (and only) list inside of another list\n",
        "    for i in range(1, len(tokens)):\n",
        "        sequences.append(tokens[:i+1])\n",
        "\n",
        "# Padding sequences to pads shorter sequences with zeros at the beginning\n",
        "max_length = max(len(seq) for seq in sequences)\n",
        "sequences_pad = pad_sequences(sequences, maxlen=max_length, padding='pre')"
      ],
      "metadata": {
        "id": "crtp4_8Q4LCo"
      },
      "execution_count": null,
      "outputs": []
    },
    {
      "cell_type": "code",
      "source": [
        "# Checking text converted to sequential numerical data\n",
        "\n",
        "print('Original text :-',text)\n",
        "\n",
        "print('\\n Sequential data converted from text :- \\n\\n',sequences)\n",
        "\n",
        "print('\\n Sequential data after padding :-  \\n\\n',sequences_pad)"
      ],
      "metadata": {
        "colab": {
          "base_uri": "https://localhost:8080/"
        },
        "id": "BQ-FnWwLA4WS",
        "outputId": "90704737-22fd-4d6d-a4cc-aa5d8c2eff6c"
      },
      "execution_count": null,
      "outputs": [
        {
          "output_type": "stream",
          "name": "stdout",
          "text": [
            "Original text :- Rana likes biriyani so we can understand that his favourite cuisine is Bangladeshi. \n",
            "But his friend John likes pastas and cheese so we can understand that his favourite cuisine is Italian.\n",
            "\n",
            " Sequential data converted from text :- \n",
            "\n",
            " [[11, 2], [11, 2, 12], [11, 2, 12, 3], [11, 2, 12, 3, 4], [11, 2, 12, 3, 4, 5], [11, 2, 12, 3, 4, 5, 6], [11, 2, 12, 3, 4, 5, 6, 7], [11, 2, 12, 3, 4, 5, 6, 7, 1], [11, 2, 12, 3, 4, 5, 6, 7, 1, 8], [11, 2, 12, 3, 4, 5, 6, 7, 1, 8, 9], [11, 2, 12, 3, 4, 5, 6, 7, 1, 8, 9, 10], [11, 2, 12, 3, 4, 5, 6, 7, 1, 8, 9, 10, 13], [14, 1], [14, 1, 15], [14, 1, 15, 16], [14, 1, 15, 16, 2], [14, 1, 15, 16, 2, 17], [14, 1, 15, 16, 2, 17, 18], [14, 1, 15, 16, 2, 17, 18, 19], [14, 1, 15, 16, 2, 17, 18, 19, 3], [14, 1, 15, 16, 2, 17, 18, 19, 3, 4], [14, 1, 15, 16, 2, 17, 18, 19, 3, 4, 5], [14, 1, 15, 16, 2, 17, 18, 19, 3, 4, 5, 6], [14, 1, 15, 16, 2, 17, 18, 19, 3, 4, 5, 6, 7], [14, 1, 15, 16, 2, 17, 18, 19, 3, 4, 5, 6, 7, 1], [14, 1, 15, 16, 2, 17, 18, 19, 3, 4, 5, 6, 7, 1, 8], [14, 1, 15, 16, 2, 17, 18, 19, 3, 4, 5, 6, 7, 1, 8, 9], [14, 1, 15, 16, 2, 17, 18, 19, 3, 4, 5, 6, 7, 1, 8, 9, 10], [14, 1, 15, 16, 2, 17, 18, 19, 3, 4, 5, 6, 7, 1, 8, 9, 10, 20]]\n",
            "\n",
            " Sequential data after padding :-  \n",
            "\n",
            " [[ 0  0  0  0  0  0  0  0  0  0  0  0  0  0  0  0 11  2]\n",
            " [ 0  0  0  0  0  0  0  0  0  0  0  0  0  0  0 11  2 12]\n",
            " [ 0  0  0  0  0  0  0  0  0  0  0  0  0  0 11  2 12  3]\n",
            " [ 0  0  0  0  0  0  0  0  0  0  0  0  0 11  2 12  3  4]\n",
            " [ 0  0  0  0  0  0  0  0  0  0  0  0 11  2 12  3  4  5]\n",
            " [ 0  0  0  0  0  0  0  0  0  0  0 11  2 12  3  4  5  6]\n",
            " [ 0  0  0  0  0  0  0  0  0  0 11  2 12  3  4  5  6  7]\n",
            " [ 0  0  0  0  0  0  0  0  0 11  2 12  3  4  5  6  7  1]\n",
            " [ 0  0  0  0  0  0  0  0 11  2 12  3  4  5  6  7  1  8]\n",
            " [ 0  0  0  0  0  0  0 11  2 12  3  4  5  6  7  1  8  9]\n",
            " [ 0  0  0  0  0  0 11  2 12  3  4  5  6  7  1  8  9 10]\n",
            " [ 0  0  0  0  0 11  2 12  3  4  5  6  7  1  8  9 10 13]\n",
            " [ 0  0  0  0  0  0  0  0  0  0  0  0  0  0  0  0 14  1]\n",
            " [ 0  0  0  0  0  0  0  0  0  0  0  0  0  0  0 14  1 15]\n",
            " [ 0  0  0  0  0  0  0  0  0  0  0  0  0  0 14  1 15 16]\n",
            " [ 0  0  0  0  0  0  0  0  0  0  0  0  0 14  1 15 16  2]\n",
            " [ 0  0  0  0  0  0  0  0  0  0  0  0 14  1 15 16  2 17]\n",
            " [ 0  0  0  0  0  0  0  0  0  0  0 14  1 15 16  2 17 18]\n",
            " [ 0  0  0  0  0  0  0  0  0  0 14  1 15 16  2 17 18 19]\n",
            " [ 0  0  0  0  0  0  0  0  0 14  1 15 16  2 17 18 19  3]\n",
            " [ 0  0  0  0  0  0  0  0 14  1 15 16  2 17 18 19  3  4]\n",
            " [ 0  0  0  0  0  0  0 14  1 15 16  2 17 18 19  3  4  5]\n",
            " [ 0  0  0  0  0  0 14  1 15 16  2 17 18 19  3  4  5  6]\n",
            " [ 0  0  0  0  0 14  1 15 16  2 17 18 19  3  4  5  6  7]\n",
            " [ 0  0  0  0 14  1 15 16  2 17 18 19  3  4  5  6  7  1]\n",
            " [ 0  0  0 14  1 15 16  2 17 18 19  3  4  5  6  7  1  8]\n",
            " [ 0  0 14  1 15 16  2 17 18 19  3  4  5  6  7  1  8  9]\n",
            " [ 0 14  1 15 16  2 17 18 19  3  4  5  6  7  1  8  9 10]\n",
            " [14  1 15 16  2 17 18 19  3  4  5  6  7  1  8  9 10 20]]\n"
          ]
        }
      ]
    },
    {
      "cell_type": "markdown",
      "source": [
        "## **Splitting data into input & output**"
      ],
      "metadata": {
        "id": "ooNgc1A7D0P_"
      }
    },
    {
      "cell_type": "code",
      "source": [
        "# Split input (X) and output (y)\n",
        "X, y = sequences_pad[:, :-1], sequences_pad[:, -1]\n",
        "y = tf.keras.utils.to_categorical(y, num_classes=total_words)"
      ],
      "metadata": {
        "id": "wkMbh9FW4K9J"
      },
      "execution_count": null,
      "outputs": []
    },
    {
      "cell_type": "markdown",
      "source": [
        "## **Building RNN Model & Track Gradient**"
      ],
      "metadata": {
        "id": "o7M09RuGIKMF"
      }
    },
    {
      "cell_type": "code",
      "source": [
        "# Build Simple RNN model\n",
        "model1 = Sequential([\n",
        "    Embedding(total_words, 5, input_length=max_length-1),\n",
        "    SimpleRNN(50, return_sequences=True),\n",
        "    SimpleRNN(50),\n",
        "    Dense(total_words, activation='softmax')\n",
        "])\n",
        "\n",
        "model1.compile(loss='categorical_crossentropy', optimizer='adam', metrics=['accuracy'])\n",
        "\n",
        "# Function to track and print gradients\n",
        "gradient_log1 = []\n",
        "\n",
        "def get_gradients():\n",
        "    with tf.GradientTape() as tape:\n",
        "        y_pred = model1(X, training=True)\n",
        "        loss = tf.keras.losses.categorical_crossentropy(y, y_pred)\n",
        "    grads = tape.gradient(loss, model1.trainable_variables)\n",
        "\n",
        "    # Get average gradient magnitude\n",
        "    avg_grad = np.mean([np.mean(tf.abs(g)) for g in grads if g is not None])\n",
        "    gradient_log1.append(avg_grad)\n",
        "\n",
        "    # Print some gradient values for debugging\n",
        "    print(f\"Average Gradient Magnitude: {avg_grad:.8f}\")\n",
        "    return avg_grad\n",
        "\n",
        "# Train and track gradients\n",
        "for epoch in range(10):  # Train for 5 epochs\n",
        "    print(f\"Epoch {epoch+1}/{10}\")\n",
        "    model1.fit(X, y, epochs=1, verbose=1)\n",
        "    get_gradients()  # Track gradients\n",
        "\n",
        "# Plot gradients\n",
        "plt.plot(gradient_log1)\n",
        "plt.xlabel(\"Epoch\")\n",
        "plt.ylabel(\"Average Gradient Magnitude\")\n",
        "plt.title(\"Vanishing Gradient in RNN\")\n",
        "plt.show()"
      ],
      "metadata": {
        "colab": {
          "base_uri": "https://localhost:8080/",
          "height": 993
        },
        "id": "HTQnEZh-S9vH",
        "outputId": "59d34a12-4f28-4129-d7b5-390e95f2cd74"
      },
      "execution_count": null,
      "outputs": [
        {
          "output_type": "stream",
          "name": "stdout",
          "text": [
            "Epoch 1/10\n",
            "\u001b[1m1/1\u001b[0m \u001b[32m━━━━━━━━━━━━━━━━━━━━\u001b[0m\u001b[37m\u001b[0m \u001b[1m4s\u001b[0m 4s/step - accuracy: 0.0345 - loss: 3.0878\n",
            "Average Gradient Magnitude: 0.88987404\n",
            "Epoch 2/10\n",
            "\u001b[1m1/1\u001b[0m \u001b[32m━━━━━━━━━━━━━━━━━━━━\u001b[0m\u001b[37m\u001b[0m \u001b[1m0s\u001b[0m 95ms/step - accuracy: 0.0345 - loss: 3.0313\n",
            "Average Gradient Magnitude: 0.80049980\n",
            "Epoch 3/10\n",
            "\u001b[1m1/1\u001b[0m \u001b[32m━━━━━━━━━━━━━━━━━━━━\u001b[0m\u001b[37m\u001b[0m \u001b[1m0s\u001b[0m 83ms/step - accuracy: 0.1034 - loss: 2.9834\n",
            "Average Gradient Magnitude: 0.67545223\n",
            "Epoch 4/10\n",
            "\u001b[1m1/1\u001b[0m \u001b[32m━━━━━━━━━━━━━━━━━━━━\u001b[0m\u001b[37m\u001b[0m \u001b[1m0s\u001b[0m 76ms/step - accuracy: 0.1724 - loss: 2.9397\n",
            "Average Gradient Magnitude: 0.55175585\n",
            "Epoch 5/10\n",
            "\u001b[1m1/1\u001b[0m \u001b[32m━━━━━━━━━━━━━━━━━━━━\u001b[0m\u001b[37m\u001b[0m \u001b[1m0s\u001b[0m 76ms/step - accuracy: 0.1724 - loss: 2.8992\n",
            "Average Gradient Magnitude: 0.52756500\n",
            "Epoch 6/10\n",
            "\u001b[1m1/1\u001b[0m \u001b[32m━━━━━━━━━━━━━━━━━━━━\u001b[0m\u001b[37m\u001b[0m \u001b[1m0s\u001b[0m 89ms/step - accuracy: 0.2069 - loss: 2.8617\n",
            "Average Gradient Magnitude: 0.54877502\n",
            "Epoch 7/10\n",
            "\u001b[1m1/1\u001b[0m \u001b[32m━━━━━━━━━━━━━━━━━━━━\u001b[0m\u001b[37m\u001b[0m \u001b[1m0s\u001b[0m 102ms/step - accuracy: 0.2414 - loss: 2.8257\n",
            "Average Gradient Magnitude: 0.57018560\n",
            "Epoch 8/10\n",
            "\u001b[1m1/1\u001b[0m \u001b[32m━━━━━━━━━━━━━━━━━━━━\u001b[0m\u001b[37m\u001b[0m \u001b[1m0s\u001b[0m 59ms/step - accuracy: 0.2414 - loss: 2.7897\n",
            "Average Gradient Magnitude: 0.63461995\n",
            "Epoch 9/10\n",
            "\u001b[1m1/1\u001b[0m \u001b[32m━━━━━━━━━━━━━━━━━━━━\u001b[0m\u001b[37m\u001b[0m \u001b[1m0s\u001b[0m 52ms/step - accuracy: 0.3103 - loss: 2.7528\n",
            "Average Gradient Magnitude: 0.71437484\n",
            "Epoch 10/10\n",
            "\u001b[1m1/1\u001b[0m \u001b[32m━━━━━━━━━━━━━━━━━━━━\u001b[0m\u001b[37m\u001b[0m \u001b[1m0s\u001b[0m 51ms/step - accuracy: 0.3103 - loss: 2.7135\n",
            "Average Gradient Magnitude: 0.74575096\n"
          ]
        },
        {
          "output_type": "display_data",
          "data": {
            "text/plain": [
              "<Figure size 640x480 with 1 Axes>"
            ],
            "image/png": "[encoded data removed]"
          },
          "metadata": {}
        }
      ]
    },
    {
      "cell_type": "markdown",
      "source": [
        "## **Building LSTM Model & Track Gradient**"
      ],
      "metadata": {
        "id": "2rnj2RU1tm3Z"
      }
    },
    {
      "cell_type": "code",
      "source": [
        "# Build LSTM model\n",
        "model2 = Sequential([\n",
        "    Embedding(total_words, 5, input_length=max_length-1),\n",
        "    LSTM(50, return_sequences=True),\n",
        "    LSTM(50),\n",
        "    Dense(total_words, activation='softmax')\n",
        "])\n",
        "\n",
        "model2.compile(loss='categorical_crossentropy', optimizer='adam', metrics=['accuracy'])\n",
        "\n",
        "# Function to track and print gradients\n",
        "gradient_log2 = []\n",
        "\n",
        "def get_gradients(X, y, model):\n",
        "    with tf.GradientTape() as tape:\n",
        "        y_pred = model(X, training=True)\n",
        "        loss = tf.keras.losses.categorical_crossentropy(y, y_pred)\n",
        "    grads = tape.gradient(loss, model.trainable_variables)\n",
        "\n",
        "    # Get average gradient magnitude\n",
        "    avg_grad = np.mean([np.mean(tf.abs(g)) for g in grads if g is not None])\n",
        "    gradient_log2.append(avg_grad)\n",
        "\n",
        "    # Print some gradient values for debugging\n",
        "    print(f\"Average Gradient Magnitude: {avg_grad:.8f}\")\n",
        "    return avg_grad\n",
        "\n",
        "# Train and track gradients\n",
        "for epoch in range(10):  # Train for 10 epochs\n",
        "    print(f\"Epoch {epoch+1}/10\")\n",
        "    model2.fit(X, y, epochs=1, verbose=1)\n",
        "    get_gradients(X, y, model2)  # Track gradients after each epoch\n",
        "\n",
        "# Plot gradients\n",
        "plt.plot(gradient_log2)\n",
        "plt.xlabel(\"Epoch\")\n",
        "plt.ylabel(\"Average Gradient Magnitude\")\n",
        "plt.title(\"Gradient Behavior in LSTM\")\n",
        "plt.show()"
      ],
      "metadata": {
        "colab": {
          "base_uri": "https://localhost:8080/",
          "height": 993
        },
        "id": "o92Kb7G1TBch",
        "outputId": "8ee4e429-d806-4c8d-b282-bbb92eaa4471"
      },
      "execution_count": null,
      "outputs": [
        {
          "output_type": "stream",
          "name": "stdout",
          "text": [
            "Epoch 1/10\n",
            "\u001b[1m1/1\u001b[0m \u001b[32m━━━━━━━━━━━━━━━━━━━━\u001b[0m\u001b[37m\u001b[0m \u001b[1m5s\u001b[0m 5s/step - accuracy: 0.0345 - loss: 3.0447\n",
            "Average Gradient Magnitude: 0.10129462\n",
            "Epoch 2/10\n",
            "\u001b[1m1/1\u001b[0m \u001b[32m━━━━━━━━━━━━━━━━━━━━\u001b[0m\u001b[37m\u001b[0m \u001b[1m0s\u001b[0m 60ms/step - accuracy: 0.1034 - loss: 3.0423\n",
            "Average Gradient Magnitude: 0.10183038\n",
            "Epoch 3/10\n",
            "\u001b[1m1/1\u001b[0m \u001b[32m━━━━━━━━━━━━━━━━━━━━\u001b[0m\u001b[37m\u001b[0m \u001b[1m0s\u001b[0m 58ms/step - accuracy: 0.1034 - loss: 3.0399\n",
            "Average Gradient Magnitude: 0.10332350\n",
            "Epoch 4/10\n",
            "\u001b[1m1/1\u001b[0m \u001b[32m━━━━━━━━━━━━━━━━━━━━\u001b[0m\u001b[37m\u001b[0m \u001b[1m0s\u001b[0m 59ms/step - accuracy: 0.1034 - loss: 3.0372\n",
            "Average Gradient Magnitude: 0.10534621\n",
            "Epoch 5/10\n",
            "\u001b[1m1/1\u001b[0m \u001b[32m━━━━━━━━━━━━━━━━━━━━\u001b[0m\u001b[37m\u001b[0m \u001b[1m0s\u001b[0m 57ms/step - accuracy: 0.1034 - loss: 3.0342\n",
            "Average Gradient Magnitude: 0.10786837\n",
            "Epoch 6/10\n",
            "\u001b[1m1/1\u001b[0m \u001b[32m━━━━━━━━━━━━━━━━━━━━\u001b[0m\u001b[37m\u001b[0m \u001b[1m0s\u001b[0m 56ms/step - accuracy: 0.1034 - loss: 3.0307\n",
            "Average Gradient Magnitude: 0.11088756\n",
            "Epoch 7/10\n",
            "\u001b[1m1/1\u001b[0m \u001b[32m━━━━━━━━━━━━━━━━━━━━\u001b[0m\u001b[37m\u001b[0m \u001b[1m0s\u001b[0m 58ms/step - accuracy: 0.1034 - loss: 3.0265\n",
            "Average Gradient Magnitude: 0.11436979\n",
            "Epoch 8/10\n",
            "\u001b[1m1/1\u001b[0m \u001b[32m━━━━━━━━━━━━━━━━━━━━\u001b[0m\u001b[37m\u001b[0m \u001b[1m0s\u001b[0m 57ms/step - accuracy: 0.1034 - loss: 3.0216\n",
            "Average Gradient Magnitude: 0.11828396\n",
            "Epoch 9/10\n",
            "\u001b[1m1/1\u001b[0m \u001b[32m━━━━━━━━━━━━━━━━━━━━\u001b[0m\u001b[37m\u001b[0m \u001b[1m0s\u001b[0m 57ms/step - accuracy: 0.1034 - loss: 3.0158\n",
            "Average Gradient Magnitude: 0.12274122\n",
            "Epoch 10/10\n",
            "\u001b[1m1/1\u001b[0m \u001b[32m━━━━━━━━━━━━━━━━━━━━\u001b[0m\u001b[37m\u001b[0m \u001b[1m0s\u001b[0m 56ms/step - accuracy: 0.1034 - loss: 3.0087\n",
            "Average Gradient Magnitude: 0.12755956\n"
          ]
        },
        {
          "output_type": "display_data",
          "data": {
            "text/plain": [
              "<Figure size 640x480 with 1 Axes>"
            ],
            "image/png": "[encoded data removed]"
          },
          "metadata": {}
        }
      ]
    },
    {
      "cell_type": "markdown",
      "source": [
        "## **Predict Next Word**"
      ],
      "metadata": {
        "id": "jeO3w5ruwDjf"
      }
    },
    {
      "cell_type": "code",
      "source": [
        "# Creating a function to take input of text to predict\n",
        "def predict_next_word(seed_text, model):\n",
        "    \"\"\"\n",
        "    Predicts the next word based on the input seed_text.\n",
        "    \"\"\"\n",
        "    # Convert input text to a sequence of numbers\n",
        "    sequence_text = tokenizer.texts_to_sequences([seed_text])[0]\n",
        "\n",
        "    # Pad the sequence to match model input length\n",
        "    sequence_pad = pad_sequences([sequence_text], maxlen=max_length-1, padding='pre')\n",
        "\n",
        "    # Predict the next word\n",
        "    predicted_probs = model.predict(sequence_pad, verbose=0)\n",
        "    predicted_index = np.argmax(predicted_probs)  # Get word index with highest probability\n",
        "\n",
        "    # Convert index back to word\n",
        "    for word, index in tokenizer.word_index.items():\n",
        "        if index == predicted_index:\n",
        "            return word  # Return the predicted word\n",
        "\n",
        "    return \"Unknown\"  # If word is not found\n",
        "\n",
        "Input_text = input()\n",
        "\n",
        "pd.DataFrame({'RNN Model Predicted word: ': [predict_next_word(Input_text, model1)],\n",
        "              'LSTM Model Predicted word:': [predict_next_word(Input_text, model2)]\n",
        "})"
      ],
      "metadata": {
        "id": "Kcsb-6dsHXfe",
        "colab": {
          "base_uri": "https://localhost:8080/",
          "height": 98
        },
        "outputId": "7e6b145a-9d3d-40b6-b9e8-0f20afdb63fd"
      },
      "execution_count": null,
      "outputs": [
        {
          "name": "stdout",
          "output_type": "stream",
          "text": [
            "Rana likes biriyani so we can understand that\n"
          ]
        },
        {
          "output_type": "execute_result",
          "data": {
            "text/plain": [
              "  RNN Model Predicted word:  LSTM Model Predicted word:\n",
              "0                        his                        his"
            ],
            "text/html": [
              "\n",
              "  <div id=\"df-7a3aeca3-fd30-449c-b93e-4e564bfcef55\" class=\"colab-df-container\">\n",
              "    <div>\n",
              "<style scoped>\n",
              "    .dataframe tbody tr th:only-of-type {\n",
              "        vertical-align: middle;\n",
              "    }\n",
              "\n",
              "    .dataframe tbody tr th {\n",
              "        vertical-align: top;\n",
              "    }\n",
              "\n",
              "    .dataframe thead th {\n",
              "        text-align: right;\n",
              "    }\n",
              "</style>\n",
              "<table border=\"1\" class=\"dataframe\">\n",
              "  <thead>\n",
              "    <tr style=\"text-align: right;\">\n",
              "      <th></th>\n",
              "      <th>RNN Model Predicted word:</th>\n",
              "      <th>LSTM Model Predicted word:</th>\n",
              "    </tr>\n",
              "  </thead>\n",
              "  <tbody>\n",
              "    <tr>\n",
              "      <th>0</th>\n",
              "      <td>his</td>\n",
              "      <td>his</td>\n",
              "    </tr>\n",
              "  </tbody>\n",
              "</table>\n",
              "</div>\n",
              "    <div class=\"colab-df-buttons\">\n",
              "\n",
              "  <div class=\"colab-df-container\">\n",
              "    <button class=\"colab-df-convert\" onclick=\"convertToInteractive('df-7a3aeca3-fd30-449c-b93e-4e564bfcef55')\"\n",
              "            title=\"Convert this dataframe to an interactive table.\"\n",
              "            style=\"display:none;\">\n",
              "\n",
              "  <svg xmlns=\"http://www.w3.org/2000/svg\" height=\"24px\" viewBox=\"0 -960 960 960\">\n",
              "    <path d=\"M120-120v-720h720v720H120Zm60-500h600v-160H180v160Zm220 220h160v-160H400v160Zm0 220h160v-160H400v160ZM180-400h160v-160H180v160Zm440 0h160v-160H620v160ZM180-180h160v-160H180v160Zm440 0h160v-160H620v160Z\"/>\n",
              "  </svg>\n",
              "    </button>\n",
              "\n",
              "  <style>\n",
              "    .colab-df-container {\n",
              "      display:flex;\n",
              "      gap: 12px;\n",
              "    }\n",
              "\n",
              "    .colab-df-convert {\n",
              "      background-color: #E8F0FE;\n",
              "      border: none;\n",
              "      border-radius: 50%;\n",
              "      cursor: pointer;\n",
              "      display: none;\n",
              "      fill: #1967D2;\n",
              "      height: 32px;\n",
              "      padding: 0 0 0 0;\n",
              "      width: 32px;\n",
              "    }\n",
              "\n",
              "    .colab-df-convert:hover {\n",
              "      background-color: #E2EBFA;\n",
              "      box-shadow: 0px 1px 2px rgba(60, 64, 67, 0.3), 0px 1px 3px 1px rgba(60, 64, 67, 0.15);\n",
              "      fill: #174EA6;\n",
              "    }\n",
              "\n",
              "    .colab-df-buttons div {\n",
              "      margin-bottom: 4px;\n",
              "    }\n",
              "\n",
              "    [theme=dark] .colab-df-convert {\n",
              "      background-color: #3B4455;\n",
              "      fill: #D2E3FC;\n",
              "    }\n",
              "\n",
              "    [theme=dark] .colab-df-convert:hover {\n",
              "      background-color: #434B5C;\n",
              "      box-shadow: 0px 1px 3px 1px rgba(0, 0, 0, 0.15);\n",
              "      filter: drop-shadow(0px 1px 2px rgba(0, 0, 0, 0.3));\n",
              "      fill: #FFFFFF;\n",
              "    }\n",
              "  </style>\n",
              "\n",
              "    <script>\n",
              "      const buttonEl =\n",
              "        document.querySelector('#df-7a3aeca3-fd30-449c-b93e-4e564bfcef55 button.colab-df-convert');\n",
              "      buttonEl.style.display =\n",
              "        google.colab.kernel.accessAllowed ? 'block' : 'none';\n",
              "\n",
              "      async function convertToInteractive(key) {\n",
              "        const element = document.querySelector('#df-7a3aeca3-fd30-449c-b93e-4e564bfcef55');\n",
              "        const dataTable =\n",
              "          await google.colab.kernel.invokeFunction('convertToInteractive',\n",
              "                                                    [key], {});\n",
              "        if (!dataTable) return;\n",
              "\n",
              "        const docLinkHtml = 'Like what you see? Visit the ' +\n",
              "          '<a target=\"_blank\" href=https://colab.research.google.com/notebooks/data_table.ipynb>data table notebook</a>'\n",
              "          + ' to learn more about interactive tables.';\n",
              "        element.innerHTML = '';\n",
              "        dataTable['output_type'] = 'display_data';\n",
              "        await google.colab.output.renderOutput(dataTable, element);\n",
              "        const docLink = document.createElement('div');\n",
              "        docLink.innerHTML = docLinkHtml;\n",
              "        element.appendChild(docLink);\n",
              "      }\n",
              "    </script>\n",
              "  </div>\n",
              "\n",
              "\n",
              "    </div>\n",
              "  </div>\n"
            ],
            "application/vnd.google.colaboratory.intrinsic+json": {
              "type": "dataframe",
              "summary": "{\n  \"name\": \"})\",\n  \"rows\": 1,\n  \"fields\": [\n    {\n      \"column\": \"RNN Model Predicted word: \",\n      \"properties\": {\n        \"dtype\": \"string\",\n        \"num_unique_values\": 1,\n        \"samples\": [\n          \"his\"\n        ],\n        \"semantic_type\": \"\",\n        \"description\": \"\"\n      }\n    },\n    {\n      \"column\": \"LSTM Model Predicted word:\",\n      \"properties\": {\n        \"dtype\": \"string\",\n        \"num_unique_values\": 1,\n        \"samples\": [\n          \"his\"\n        ],\n        \"semantic_type\": \"\",\n        \"description\": \"\"\n      }\n    }\n  ]\n}"
            }
          },
          "metadata": {},
          "execution_count": 178
        }
      ]
    }
  ]
}